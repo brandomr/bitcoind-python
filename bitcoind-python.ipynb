{
 "cells": [
  {
   "cell_type": "markdown",
   "metadata": {},
   "source": [
    "# Interacting with a bitcoind node using Python\n",
    "This guide assumes you have a bitcoind node running and available at `localhost:8332`. If not you should refer to this repository's `README.md` for how to set that up.\n",
    "\n",
    "Requires:\n",
    "```\n",
    "python-bitcoinrpc (1.0)\n",
    "```"
   ]
  },
  {
   "cell_type": "code",
   "execution_count": 1,
   "metadata": {
    "collapsed": true
   },
   "outputs": [],
   "source": [
    "from bitcoinrpc.authproxy import AuthServiceProxy, JSONRPCException\n",
    "import json"
   ]
  },
  {
   "cell_type": "markdown",
   "metadata": {},
   "source": [
    "Let's set the RPC user and password so that we can instantiate a connection to bitcoind:"
   ]
  },
  {
   "cell_type": "code",
   "execution_count": 4,
   "metadata": {
    "collapsed": true
   },
   "outputs": [],
   "source": [
    "rpc_user = 'rpcuser'\n",
    "rpc_password = 'rpcsecret'"
   ]
  },
  {
   "cell_type": "markdown",
   "metadata": {},
   "source": [
    "Now we can go ahead and connect to the bitcoind node:"
   ]
  },
  {
   "cell_type": "code",
   "execution_count": 12,
   "metadata": {
    "collapsed": false
   },
   "outputs": [],
   "source": [
    "rpc_conn = AuthServiceProxy(\"http://%s:%s@localhost:8332\"%(rpc_user, rpc_password), timeout=10000)"
   ]
  },
  {
   "cell_type": "markdown",
   "metadata": {},
   "source": [
    "Let's test the connection:"
   ]
  },
  {
   "cell_type": "code",
   "execution_count": 13,
   "metadata": {
    "collapsed": false,
    "scrolled": false
   },
   "outputs": [
    {
     "data": {
      "text/plain": [
       "{'blocks': 195148,\n",
       " 'connections': 8,\n",
       " 'deprecation-warning': 'WARNING: getinfo is deprecated and will be fully removed in 0.16. Projects should transition to using getblockchaininfo, getnetworkinfo, and getwalletinfo before upgrading to 0.16',\n",
       " 'difficulty': Decimal('2190865.970102859'),\n",
       " 'errors': '',\n",
       " 'paytxfee': Decimal('0E-8'),\n",
       " 'protocolversion': 70015,\n",
       " 'proxy': '',\n",
       " 'relayfee': Decimal('0.00001000'),\n",
       " 'testnet': False,\n",
       " 'timeoffset': 0,\n",
       " 'version': 150100}"
      ]
     },
     "execution_count": 13,
     "metadata": {},
     "output_type": "execute_result"
    }
   ],
   "source": [
    "rpc_conn.getinfo()"
   ]
  },
  {
   "cell_type": "markdown",
   "metadata": {},
   "source": [
    "Note that the latest block at the time of writing was `498016`. You'll notice that if you just started up your bitcoind node it probably has far fewer blocks than that. This is because it is still in the process of downloading the full blockchain and getting up to speed. \n",
    "\n",
    "One thing to consider is that only blocks found on disk can be accessed using the RPC connection. So if you want to inspect a block you can, just ensure you are passing the hash of an early block. For example:"
   ]
  },
  {
   "cell_type": "code",
   "execution_count": 134,
   "metadata": {
    "collapsed": false,
    "scrolled": true
   },
   "outputs": [
    {
     "data": {
      "text/plain": [
       "{'bits': '1a05db8b',\n",
       " 'chainwork': '00000000000000000000000000000000000000000000001b9bfea5cbeb9a9fc4',\n",
       " 'confirmations': 132,\n",
       " 'difficulty': Decimal('2864140.507810974'),\n",
       " 'hash': '00000000000005cbac4729863520767efc50c505fe2743d5d8abb016683388e3',\n",
       " 'height': 201286,\n",
       " 'mediantime': 1349034457,\n",
       " 'merkleroot': 'b680578ad66388b672782b3092aef4cbc74e45daf2c3a4152c42bd2cb31f2b61',\n",
       " 'nextblockhash': '0000000000000341a9c8a4f050fe3273edd0a602ecb9b94377c5c1c54185358a',\n",
       " 'nonce': 338505311,\n",
       " 'previousblockhash': '000000000000014125fedb75009ba81c07ac3e4c1481ffb9a4f9ee02d4178a7a',\n",
       " 'size': 86877,\n",
       " 'strippedsize': 86877,\n",
       " 'time': 1349035927,\n",
       " 'tx': ['ac304fa1978ec6bae8acfca077348e5d92040dd67733b4b593fdddb116d2504b',\n",
       "  '48adf12b094bafe7dca55653862c72c69a1fa049bccd1fc397da46e0bb0e69a2',\n",
       "  '2acbef7e5a866d0134841e61aeeae4b60f043834ac5b389d94af3cdbea1d6d77',\n",
       "  '1d26080b54021589ef33f3482254ef5f06a3ec0c8ea3c4d37b4ec994dfb88618',\n",
       "  '9d6f4eb5fba393408981fa9835f141aed9e18b51a9f3ef32446e69d423dbd11a',\n",
       "  '76a766dd9b4fda5bb8a3fcbbee628c255bdd462aa7cc15fc251b1b9716a52658',\n",
       "  '45edc12fb5061cd85376691c19e8488af6c8266cfdff57441be8662ea54ec616',\n",
       "  '9f72fd4bca78dfe27a638695fbe31801ed894e7518b9acf2a1dd7c73d9633545',\n",
       "  '74088fe60d6b7b4ac75632f5fcd81f07ff2c14d12eaf83dd7290f87b3d077b99',\n",
       "  'eb18b85620e49bc5a1454c2ac51dc9ae9f3d752658919f712b07283284b95f86',\n",
       "  'c8ff18e11fbed6aba698afbbd1b657d8825113256b4d4454e58b0f125095cd2a',\n",
       "  'baa19268d5e30e8ae6db5ae326718b7495c76a97415e06eb341a31f9f889c36d',\n",
       "  'ed499a11bfd967305779a13af54c9945677ce1d16d3862cc192789a34de32f8d',\n",
       "  'cb6a20147312f8c5c1ae99e164a0fb2be934ac473accdc6b6dc9432601300fe6',\n",
       "  'd83860047b70bd45e96df02be753ddcc7e2e008b01d2ce2562cc65155e5cf148',\n",
       "  '0ebaf4398c4daa335766448b3f5e9a00f93ed03c4b954408cb0213dbc94dbd43',\n",
       "  'fcb7470b33a23581e83ba1ae3bfbe51f92bbb5532bd8fa565dafb1141fd6e069',\n",
       "  '1ef7020e0eee33fd438a7b883f067253fa2cb9dae77a228d5550101b92fd6644',\n",
       "  '63ddce4b06aab5c297c3f0ddba72e17c4b71e438c1bf42e930ee0241b29969b2',\n",
       "  '14d7cd2a201dc3ce504568307e7e61ae494b1eb07b80c77b058f1f21c697cdd5',\n",
       "  '10ba32449e1d669c92d0479f6701144e015ae006830fa533d25783243056b39b',\n",
       "  '7ec6d30a01a7819eedb25cd65df622ab1f118504b62772b9f58a4de6b6f52fba',\n",
       "  '0559beab24d010640135c81d7d3e20a1967eac871ef866827684ed7fb58284ca',\n",
       "  'fd400dc7b93b78b9c7e2f22fab0a0ac47241e547e78d7b26cbf418afd0acab4f',\n",
       "  'b5086b966e5f51d351bbdc3760bda98d360eb080ca76cfb2e6f574a7c294b71d',\n",
       "  'ecacfdc78ff534f966d75bd274bea7d2794b85112e66deccb9183bc474b11dc5',\n",
       "  '5752f5ba00406e540aa7847fd30b7e8549efdd879c3005a8d1ff327323cc8991',\n",
       "  '22bb36bf2bb6fa2484a856ab98c241d5bb4f07c99f995993ddcba392dd40a951',\n",
       "  'f9c9100a7623b9d3f85a71ae86bd141a9522df0c286b43e13728fb402745bad7',\n",
       "  'd00526ac8fb110a1f8949a1824706209e07cc8614438d1af6a0c02b954d4e203',\n",
       "  '3b2d845746673104210aa175214040ac9424fba9cb884bb8c9e71cca7d8fdcac',\n",
       "  '660fe3b42d1f7e69f3e4b1a23712bcb6137beac0d803abc77026d591289f8707',\n",
       "  '7234701c2fe54b5004955d38639a84db14f2e6d560c62ba30a9d5bba0256391f',\n",
       "  'dfec13b860385d94ea37a4486527da0c316dcd5d1935b6b84326290d764fcb7f',\n",
       "  '8e6364c5116033ded709e0b979dd7c2f416e9d97eebd28b9c9a57385bf10454a',\n",
       "  'e2deb044ca377c428c5a15f6e3c01b2f6705789bee7d2370b44b1e5043e44dab',\n",
       "  'a08e7cc8dab828f52f339979f1ec9ecdbb63564129b0b1ef8a5f23ec5c3a14e8',\n",
       "  '0c2cb4ea9eb4f6d43f50aeff96ff793483bb6a3151443fb628570cde0d25c02b',\n",
       "  '132cfde01df9e1f5ff382207604b42a85f046856498d4a5cf2ea792b31068a42',\n",
       "  'ffecdbb1cdf31ad982120b235825ec82373f88291f55c1aabbbe81b6f1f4663d',\n",
       "  'ae174696a78d5dfe9889ddd09ade9bab02235327a4809d149cfc82cde6d744e7',\n",
       "  '1445582731a12714ad9cbd0e5078d4f26d12fc7f2d4848e8d480768804acd1cb',\n",
       "  'fad01e6d65b50695dc87d659161e7165f971cd70c95f9cfecd975214868a5b19',\n",
       "  '81cb65419386279a517cb237e305fc52d8876ba1b9acf32fda40c6c0834637e1',\n",
       "  '510930c0c244e6be4afc59380f6893e37766b26dfb519cffc5c1823761a42336',\n",
       "  'a32f0572be06ba705c3502539c3b33006b686f5ab874b70a3e70d7881336255f',\n",
       "  '2dcad3d407d1352dfbe3c47c5641f1a6c57a2852b17588b0ec4b28f1b1e7a785',\n",
       "  '91ac6278cf23d6ac86228045329dc2f340d40f5ca9e7029b212789fb935571e6',\n",
       "  '63b0a353367e5b477a87d21cb139eead108404721394a0322b4215068ef9cc43',\n",
       "  'ef5dfb0b31819b6da8d30a9bb672795fd342cd567d801f3e198ade84e3c81a4c',\n",
       "  '6bc0c1d9b08f158d9eb6103d4e3c11924020e6c45da402c0753315146828eee1',\n",
       "  '6be589abc84ac1a692bde4cf6b55711c31c91c411892e020272274be87f98d5d',\n",
       "  'f813ee0c00847bfbfcff8c4274263a65ef0a906f9e562d9eb76af0147f101a05',\n",
       "  '45eae8cb3e213301049fb48cd532d3063ec5b9dbafd9c5c55b78c301f479f741',\n",
       "  '240dd3ecb76deab44fc659a7727572b23e32ce5d18ab81684bf65ce6d2bd2a55',\n",
       "  '2cb82548879d1c30a45e36f0914475a988c7e6f6633efab2dcd2beb52afa2863',\n",
       "  '469e265989c28ebf7cdf19c9a994041d5a1ff3a140c67972de7f2c12309f37d2',\n",
       "  '000e75cf7481c42e830b535f347e8353e73e246bb804c373ac0c81cb0c34b98a',\n",
       "  'be7f0c8cdb6fab06f219ece38decf677613e388e3cac85eeeb6ca31d848a84b8',\n",
       "  'f64320e85d03fe91506a89e4f9f164a186a3c0fe3876ce5d9e7a6e5aa3081d43',\n",
       "  'bf252f2130eb3b1aae562b6e4277efda0bb51ebf2cf33b869a2c5b4a453dc792',\n",
       "  '1cf65a6b0a763aadd9afca861395d09a92312b78806bfde46f67364a32775b9f',\n",
       "  '2fe1ac2f1d921886bcd1b438a5a83f396fb0c8728ac1e0569f3b8cc9f7808d51',\n",
       "  'dc254aba0cf3f93a95101123d815f54a1e7710f46997611c619ea501e6c7b02e',\n",
       "  '36d3cb27aa6dd23a00bf6ac13aa1f02c4bc4c90866644bb07c9446a422a02159',\n",
       "  '48af146865ac287c3d1d86aa869cbfb75b7816e0fe473c8bd5abaa5ed9456b36',\n",
       "  'b3f25debd92e7c74660671e78b766fb916dc24a30ef77454074c6b87726dbcca',\n",
       "  '1e2338d67ed54ae32112f0a66e38f4cdd283b86172b1aafde0c85c2b2fe14ffb',\n",
       "  'cf4642b6314e44937506e4e54b8b53b1a9e1109714c47fbc1dbc9fc4a824f208',\n",
       "  '2cecc48754a692708ba9eb0c254df6bb532b4f74b949702293abef4bbad15cb7',\n",
       "  '526bdd9441f448246824e8ae67f2131086ccb07eb03c51077a79ff4dd2e98771',\n",
       "  '160ef194ddf09bc7ce50315c0283b89ab0d31cf4db99f0b1e3b387b139b65836',\n",
       "  '44bb1757115f7671226de9ddef37c0e5fcf475a428f1039c69902f8396cd2a37',\n",
       "  '339a48630878ae62a7f2f7d172bba5e082654b2f7616170f4305ae07b30de0a2',\n",
       "  'b1126a6de8d43b3ff4cb5f2c050bd29c4ce4a3c1f3e37dbb68ca8b56b4ec182d',\n",
       "  'dfbde2e4697850ab5dc734a1f75fed0d53caca6e22661fd30c0c8773024343ac',\n",
       "  '55721c5ad2e5b18827c0ec24b5a6d34d541dd7734856ec5fb695ec473c0d6204',\n",
       "  '8b02202b1d1d5281fdd32df5a1c09c9d9968bc5690249fe4b9becb2f6acdd7e2',\n",
       "  'f90f6f9bdc03eae783bec2a05d360d2d8c7a9bf635e14814f0fd82f5f6123b05',\n",
       "  'c4ec1475e32f54abd83fbceae3661d08869efec48f78f775945af01a56ee91d0',\n",
       "  '7005be0f8c09c383d2086c15987f027e664f65ee6c8df7a9216c27de855a47d2',\n",
       "  '40cf9c37372356004f2f2fe366a57b2b19c28cc7e5482c6756b85b279ef04371',\n",
       "  '05a48ade1e2fcd2fc0c6a6495f9aff11da81f24d23201ecec4b555a94d3cd263',\n",
       "  'cca5b46734f0e3de2c1d7f4359b4069c219bcf10621e5a82ea92bfa96d357e55',\n",
       "  'd9824dc3884b746b7afb5a629bc3fcbe48eb35eeb23face858855006339da0c9',\n",
       "  'a6ad3ed1a38a4fb92481192563dee902d76dcd121c066c824a632b4339a7d7db',\n",
       "  '79dd559dbb0adbf5224edf28ba9f74baa66f130b3c368e26aa662f1d99ee962b',\n",
       "  '9fa3798fafc0ee469a09dc492ce5b429ecae6514df5fae2defd000d685758379',\n",
       "  'd856d7b6107d32ca4ed3c3bfa93999fa01de173e5a2c50cfcab3396b853c8890',\n",
       "  'e8aa4366b4c93ca9fe573c5f94f260933c722da473f04d9e53a63bdf69e83491',\n",
       "  'c9a42b2dfd31c937485136023a7288760b38abff63f9412465beee8c31d29e21',\n",
       "  '1f823af444a0f11f54a40a86ec6779a7ac9304a2f4451fa340727dd9c52d7db7',\n",
       "  '8beecf62bbf9abd2983f2b9cdfb970a667bbbc0bb78bd91c2c105faeae71b9b9',\n",
       "  'fc869c786249896c1801913d485b4f3abf61097c845e9c1f607619d7f7ac9951',\n",
       "  'dcfe3d10de5dd4b4ea3026941c2bbcf5a4e0c0b8f36a5abad06531b83e604d57',\n",
       "  '027d10109139d976e2f0713cfb4c945516aafaa34a1a4b04f769b0456c705391',\n",
       "  '814b8005bdb2dfceb6d45998fe9717baac82dcb6f44f84899028dc4b6e6f88ea',\n",
       "  'c13919cd2b15202cf930c90f00732c08fdc6ffb58ad14d1fe284a0f9dc77d92a',\n",
       "  'aa3c2cd709677f12dfae605ffd37b82611b95cc31ddd8473f7fff95b92f76b0c',\n",
       "  '3987e805d12d9beaed0e71d746b0d172d560138c4c57a4d32ab903f720afe491',\n",
       "  '46c3b007db995b8d1569d8df169b768f9acba4e33222eae48bd9d49a38382569',\n",
       "  '567e5a9ede5192e3b75ce00cb6e1da81cbcff08f5e76c737570f283fe23302b2',\n",
       "  'fa882d1cb4bf1eee42367fb2dc4014e3ff77f9327ac80553b4d2278db410d3a8',\n",
       "  '5110875694c371bfbb464762e43b9e97dc2c578e19ae565fbe375f0dbc4f3689',\n",
       "  '8b93e63ccb0f0b0d5cd50ffa6628a617139d00b052ef59be7372fb2d04340d29',\n",
       "  '1fee31126313d2f166caf68e4106d05062f05955da50aef6f6f955e0a3dbcc00',\n",
       "  '9ef69365915eb6f54e4f5a46c122c66a9844d4824ee360bf217a767f961df1f3',\n",
       "  '5416a8af0de7279cec0b30ed4f5586d8150243304b9d94e8748811e45c267347',\n",
       "  '7e89fe447f54067b03f5113eca5ec8263028e7674e77a716808c54cca8147f31',\n",
       "  '590d2c4b249ec0ca5988212424f9eaaf9e52df43f4e2c2694c9a237db83e8b02',\n",
       "  '8ca9f2ad26b6da157a1a9948284d40616cd7f6401438b2029a6cf3f8867114bb',\n",
       "  'd1a9e96b74820a8886d58be4e1626320628fc7d5576b57f8a7d914afb7b6b3d3',\n",
       "  '4a9010384703649114a87fc4989d13b06c991c039e5b06c912478fcc1a06d6c2',\n",
       "  'a414cfef18577eecd3b13e80a6fb63eceaadc8daa3672d890f4487458cd794a1',\n",
       "  '3de5a1a4c34238925354a679fc674a629cd2ed4279e5600b383aef89a12cbed2',\n",
       "  'fdc8f3be5a445496440bdc6abe95f3d6d940701b95564e579f13f1dddd00a8b4',\n",
       "  '53fdaba8f145eb9dc00e892460fb2ae83282bb87f1a92c56e1f3d3b853642cf7',\n",
       "  '20765a9f6ed8fcc0c8444db89daf3bf189690d292f0edec7dde061ae7590ec52',\n",
       "  'cce4bf4ee1a994ecd9e0d8d10db82b7907649a4d460defa2dcd353a6fc7aa58c',\n",
       "  '804b01b39b2ca1273f6d89d733cde6648b80ffaf04da22853385b02a69e4fdd8',\n",
       "  '12ec085b20d78fcea7933d4311a2a571ac9814ecc5c52c48514f7400896edef3',\n",
       "  '1404b2977c569b6966b6153b1093def2437bd88344912e531a3c290e0e4620a6',\n",
       "  '2ede0f10a506e4f7612cc4f9d8015b55a29b123b4fe03b5a2b35de77f0a017fa',\n",
       "  '36e189d4016611532c0edd642351b68123cf646e970c4cd2c137f5b1a07da2a3',\n",
       "  '0b356465a4c3ed500bd97ba7640992a4904699dcfd64eb30e276c2bd8bcd134f',\n",
       "  '0bf2c8e7957bee1cfa0eb4357bd9cb82f75d31f1af74a3d8ded2ec5b0392f0b8',\n",
       "  '8b491ca48a29d7b62a75a016fc976007f668e35940f8b3c9d7c8d67c342e4c1f',\n",
       "  'd8b3e6809f072b0ad842d2f43eafac3eae2ec0dfa124b0bdb1b52971c911b971',\n",
       "  '3bedc8611c86654bf0907cd83f3d2fc6501ece93b8277363329806ef803efc00',\n",
       "  'c947ad27dcc41d1d562056e0b7294cee7a5dab61ddf9086284bb421456666577',\n",
       "  '5ea2aa261559cb5a518583e33fcd8cd045e7a3bc57975c348aece142e3c42873',\n",
       "  '6a632031eb2d866491af68318d8b86d1b6aa02dbeb982a91655606402c6718a6',\n",
       "  '551c4ca3c9d3b7adf0558ce7bb3b7167bf55b782d768dcb98ed1661ecc3c2e5e',\n",
       "  'df11e0470196fb9dab637479f95976163b40e68aacc796da944fa783b2ec30ac',\n",
       "  '2c0f7affcd23334e6db5f2d89cf6c0fdaa66cdfc2bc6646f47c58e56d3de8420',\n",
       "  '0f49880b47d464b8b61a4b87561242c192f2d891470969172d632c51c714f557',\n",
       "  'a8ed313c50f70d3f0563925197ddf4f0fdae2e1526cbb1a634690d53a4ce85b4',\n",
       "  '008c3034885ae60b76d5effb0545c221cf3158b9b7680f924661023b16dbcf46',\n",
       "  '129385f7acdb83c3c62b49927042dbfd850e7fc761d446837e798396e16b4de8',\n",
       "  '8cfe0d8ca8d5e7920182c90ac60ec3368ce434212c4c8e7454d0ae2026140886',\n",
       "  'aa5c3b1bdaee58bc7c58223e829c493ffcd3c1e5266be705adb35c7a4b610f3a',\n",
       "  'e3cb66e16dc857e94d603d081b2af49bb6861f118324ea1c722b244d094f8975',\n",
       "  '2a01349c27be24bb8c6a57591e8257449e765a99ec5cd666548267d9160dafb2',\n",
       "  '13302572b8d772c34794837ede8808b5a0d1bc6b40f8fc930e46948aebf64d87',\n",
       "  '6e8b0efc663936aa0faee6913a2662cf4d8f4434224d5a8faef0180f462a08c7',\n",
       "  '177cd60b409d43026acbf1cb28d0b46ef1bea9c3efcaaab4084c354dc99f9200',\n",
       "  'd3beeb81e0e368c9b121340a3a0bc486818c7fae99bd5af005ec01ba2700739c'],\n",
       " 'version': 1,\n",
       " 'versionHex': '00000001',\n",
       " 'weight': 347508}"
      ]
     },
     "execution_count": 134,
     "metadata": {},
     "output_type": "execute_result"
    }
   ],
   "source": [
    "rpc_conn.getblock('00000000000005cbac4729863520767efc50c505fe2743d5d8abb016683388e3')"
   ]
  },
  {
   "cell_type": "markdown",
   "metadata": {},
   "source": [
    "Now we can define some helper functions to get us additional information. We will always pass the RPC connection (`rpc_conn`) to each function to remind us that we need a live connection in case it has timed out."
   ]
  },
  {
   "cell_type": "code",
   "execution_count": 15,
   "metadata": {
    "collapsed": true
   },
   "outputs": [],
   "source": [
    "def get_block_hash(rpc_conn, index):\n",
    "    return rpc_conn.getblockhash(index)\n",
    "\n",
    "def get_block(rpc_conn, hash):\n",
    "    return rpc_conn.getblock(hash)\n",
    "\n",
    "def get_raw_transaction(rpc_conn, tx):\n",
    "    out = rpc_conn.getrawtransaction(tx, 1)\n",
    "    return out\n",
    "\n",
    "def get_tx_outputs(tx):\n",
    "    outputs = [float(i['value']) for i in tx['vout']]\n",
    "    return outputs"
   ]
  },
  {
   "cell_type": "markdown",
   "metadata": {},
   "source": [
    "Now we can get a block using the block height as opposed to the block's raw hash:"
   ]
  },
  {
   "cell_type": "code",
   "execution_count": 135,
   "metadata": {
    "collapsed": false
   },
   "outputs": [],
   "source": [
    "block = get_block(rpc_conn,get_block_hash(rpc_conn, 201286))"
   ]
  },
  {
   "cell_type": "code",
   "execution_count": 136,
   "metadata": {
    "collapsed": false
   },
   "outputs": [
    {
     "data": {
      "text/plain": [
       "{'bits': '1a05db8b',\n",
       " 'chainwork': '00000000000000000000000000000000000000000000001b9bfea5cbeb9a9fc4',\n",
       " 'confirmations': 138,\n",
       " 'difficulty': Decimal('2864140.507810974'),\n",
       " 'hash': '00000000000005cbac4729863520767efc50c505fe2743d5d8abb016683388e3',\n",
       " 'height': 201286,\n",
       " 'mediantime': 1349034457,\n",
       " 'merkleroot': 'b680578ad66388b672782b3092aef4cbc74e45daf2c3a4152c42bd2cb31f2b61',\n",
       " 'nextblockhash': '0000000000000341a9c8a4f050fe3273edd0a602ecb9b94377c5c1c54185358a',\n",
       " 'nonce': 338505311,\n",
       " 'previousblockhash': '000000000000014125fedb75009ba81c07ac3e4c1481ffb9a4f9ee02d4178a7a',\n",
       " 'size': 86877,\n",
       " 'strippedsize': 86877,\n",
       " 'time': 1349035927,\n",
       " 'tx': ['ac304fa1978ec6bae8acfca077348e5d92040dd67733b4b593fdddb116d2504b',\n",
       "  '48adf12b094bafe7dca55653862c72c69a1fa049bccd1fc397da46e0bb0e69a2',\n",
       "  '2acbef7e5a866d0134841e61aeeae4b60f043834ac5b389d94af3cdbea1d6d77',\n",
       "  '1d26080b54021589ef33f3482254ef5f06a3ec0c8ea3c4d37b4ec994dfb88618',\n",
       "  '9d6f4eb5fba393408981fa9835f141aed9e18b51a9f3ef32446e69d423dbd11a',\n",
       "  '76a766dd9b4fda5bb8a3fcbbee628c255bdd462aa7cc15fc251b1b9716a52658',\n",
       "  '45edc12fb5061cd85376691c19e8488af6c8266cfdff57441be8662ea54ec616',\n",
       "  '9f72fd4bca78dfe27a638695fbe31801ed894e7518b9acf2a1dd7c73d9633545',\n",
       "  '74088fe60d6b7b4ac75632f5fcd81f07ff2c14d12eaf83dd7290f87b3d077b99',\n",
       "  'eb18b85620e49bc5a1454c2ac51dc9ae9f3d752658919f712b07283284b95f86',\n",
       "  'c8ff18e11fbed6aba698afbbd1b657d8825113256b4d4454e58b0f125095cd2a',\n",
       "  'baa19268d5e30e8ae6db5ae326718b7495c76a97415e06eb341a31f9f889c36d',\n",
       "  'ed499a11bfd967305779a13af54c9945677ce1d16d3862cc192789a34de32f8d',\n",
       "  'cb6a20147312f8c5c1ae99e164a0fb2be934ac473accdc6b6dc9432601300fe6',\n",
       "  'd83860047b70bd45e96df02be753ddcc7e2e008b01d2ce2562cc65155e5cf148',\n",
       "  '0ebaf4398c4daa335766448b3f5e9a00f93ed03c4b954408cb0213dbc94dbd43',\n",
       "  'fcb7470b33a23581e83ba1ae3bfbe51f92bbb5532bd8fa565dafb1141fd6e069',\n",
       "  '1ef7020e0eee33fd438a7b883f067253fa2cb9dae77a228d5550101b92fd6644',\n",
       "  '63ddce4b06aab5c297c3f0ddba72e17c4b71e438c1bf42e930ee0241b29969b2',\n",
       "  '14d7cd2a201dc3ce504568307e7e61ae494b1eb07b80c77b058f1f21c697cdd5',\n",
       "  '10ba32449e1d669c92d0479f6701144e015ae006830fa533d25783243056b39b',\n",
       "  '7ec6d30a01a7819eedb25cd65df622ab1f118504b62772b9f58a4de6b6f52fba',\n",
       "  '0559beab24d010640135c81d7d3e20a1967eac871ef866827684ed7fb58284ca',\n",
       "  'fd400dc7b93b78b9c7e2f22fab0a0ac47241e547e78d7b26cbf418afd0acab4f',\n",
       "  'b5086b966e5f51d351bbdc3760bda98d360eb080ca76cfb2e6f574a7c294b71d',\n",
       "  'ecacfdc78ff534f966d75bd274bea7d2794b85112e66deccb9183bc474b11dc5',\n",
       "  '5752f5ba00406e540aa7847fd30b7e8549efdd879c3005a8d1ff327323cc8991',\n",
       "  '22bb36bf2bb6fa2484a856ab98c241d5bb4f07c99f995993ddcba392dd40a951',\n",
       "  'f9c9100a7623b9d3f85a71ae86bd141a9522df0c286b43e13728fb402745bad7',\n",
       "  'd00526ac8fb110a1f8949a1824706209e07cc8614438d1af6a0c02b954d4e203',\n",
       "  '3b2d845746673104210aa175214040ac9424fba9cb884bb8c9e71cca7d8fdcac',\n",
       "  '660fe3b42d1f7e69f3e4b1a23712bcb6137beac0d803abc77026d591289f8707',\n",
       "  '7234701c2fe54b5004955d38639a84db14f2e6d560c62ba30a9d5bba0256391f',\n",
       "  'dfec13b860385d94ea37a4486527da0c316dcd5d1935b6b84326290d764fcb7f',\n",
       "  '8e6364c5116033ded709e0b979dd7c2f416e9d97eebd28b9c9a57385bf10454a',\n",
       "  'e2deb044ca377c428c5a15f6e3c01b2f6705789bee7d2370b44b1e5043e44dab',\n",
       "  'a08e7cc8dab828f52f339979f1ec9ecdbb63564129b0b1ef8a5f23ec5c3a14e8',\n",
       "  '0c2cb4ea9eb4f6d43f50aeff96ff793483bb6a3151443fb628570cde0d25c02b',\n",
       "  '132cfde01df9e1f5ff382207604b42a85f046856498d4a5cf2ea792b31068a42',\n",
       "  'ffecdbb1cdf31ad982120b235825ec82373f88291f55c1aabbbe81b6f1f4663d',\n",
       "  'ae174696a78d5dfe9889ddd09ade9bab02235327a4809d149cfc82cde6d744e7',\n",
       "  '1445582731a12714ad9cbd0e5078d4f26d12fc7f2d4848e8d480768804acd1cb',\n",
       "  'fad01e6d65b50695dc87d659161e7165f971cd70c95f9cfecd975214868a5b19',\n",
       "  '81cb65419386279a517cb237e305fc52d8876ba1b9acf32fda40c6c0834637e1',\n",
       "  '510930c0c244e6be4afc59380f6893e37766b26dfb519cffc5c1823761a42336',\n",
       "  'a32f0572be06ba705c3502539c3b33006b686f5ab874b70a3e70d7881336255f',\n",
       "  '2dcad3d407d1352dfbe3c47c5641f1a6c57a2852b17588b0ec4b28f1b1e7a785',\n",
       "  '91ac6278cf23d6ac86228045329dc2f340d40f5ca9e7029b212789fb935571e6',\n",
       "  '63b0a353367e5b477a87d21cb139eead108404721394a0322b4215068ef9cc43',\n",
       "  'ef5dfb0b31819b6da8d30a9bb672795fd342cd567d801f3e198ade84e3c81a4c',\n",
       "  '6bc0c1d9b08f158d9eb6103d4e3c11924020e6c45da402c0753315146828eee1',\n",
       "  '6be589abc84ac1a692bde4cf6b55711c31c91c411892e020272274be87f98d5d',\n",
       "  'f813ee0c00847bfbfcff8c4274263a65ef0a906f9e562d9eb76af0147f101a05',\n",
       "  '45eae8cb3e213301049fb48cd532d3063ec5b9dbafd9c5c55b78c301f479f741',\n",
       "  '240dd3ecb76deab44fc659a7727572b23e32ce5d18ab81684bf65ce6d2bd2a55',\n",
       "  '2cb82548879d1c30a45e36f0914475a988c7e6f6633efab2dcd2beb52afa2863',\n",
       "  '469e265989c28ebf7cdf19c9a994041d5a1ff3a140c67972de7f2c12309f37d2',\n",
       "  '000e75cf7481c42e830b535f347e8353e73e246bb804c373ac0c81cb0c34b98a',\n",
       "  'be7f0c8cdb6fab06f219ece38decf677613e388e3cac85eeeb6ca31d848a84b8',\n",
       "  'f64320e85d03fe91506a89e4f9f164a186a3c0fe3876ce5d9e7a6e5aa3081d43',\n",
       "  'bf252f2130eb3b1aae562b6e4277efda0bb51ebf2cf33b869a2c5b4a453dc792',\n",
       "  '1cf65a6b0a763aadd9afca861395d09a92312b78806bfde46f67364a32775b9f',\n",
       "  '2fe1ac2f1d921886bcd1b438a5a83f396fb0c8728ac1e0569f3b8cc9f7808d51',\n",
       "  'dc254aba0cf3f93a95101123d815f54a1e7710f46997611c619ea501e6c7b02e',\n",
       "  '36d3cb27aa6dd23a00bf6ac13aa1f02c4bc4c90866644bb07c9446a422a02159',\n",
       "  '48af146865ac287c3d1d86aa869cbfb75b7816e0fe473c8bd5abaa5ed9456b36',\n",
       "  'b3f25debd92e7c74660671e78b766fb916dc24a30ef77454074c6b87726dbcca',\n",
       "  '1e2338d67ed54ae32112f0a66e38f4cdd283b86172b1aafde0c85c2b2fe14ffb',\n",
       "  'cf4642b6314e44937506e4e54b8b53b1a9e1109714c47fbc1dbc9fc4a824f208',\n",
       "  '2cecc48754a692708ba9eb0c254df6bb532b4f74b949702293abef4bbad15cb7',\n",
       "  '526bdd9441f448246824e8ae67f2131086ccb07eb03c51077a79ff4dd2e98771',\n",
       "  '160ef194ddf09bc7ce50315c0283b89ab0d31cf4db99f0b1e3b387b139b65836',\n",
       "  '44bb1757115f7671226de9ddef37c0e5fcf475a428f1039c69902f8396cd2a37',\n",
       "  '339a48630878ae62a7f2f7d172bba5e082654b2f7616170f4305ae07b30de0a2',\n",
       "  'b1126a6de8d43b3ff4cb5f2c050bd29c4ce4a3c1f3e37dbb68ca8b56b4ec182d',\n",
       "  'dfbde2e4697850ab5dc734a1f75fed0d53caca6e22661fd30c0c8773024343ac',\n",
       "  '55721c5ad2e5b18827c0ec24b5a6d34d541dd7734856ec5fb695ec473c0d6204',\n",
       "  '8b02202b1d1d5281fdd32df5a1c09c9d9968bc5690249fe4b9becb2f6acdd7e2',\n",
       "  'f90f6f9bdc03eae783bec2a05d360d2d8c7a9bf635e14814f0fd82f5f6123b05',\n",
       "  'c4ec1475e32f54abd83fbceae3661d08869efec48f78f775945af01a56ee91d0',\n",
       "  '7005be0f8c09c383d2086c15987f027e664f65ee6c8df7a9216c27de855a47d2',\n",
       "  '40cf9c37372356004f2f2fe366a57b2b19c28cc7e5482c6756b85b279ef04371',\n",
       "  '05a48ade1e2fcd2fc0c6a6495f9aff11da81f24d23201ecec4b555a94d3cd263',\n",
       "  'cca5b46734f0e3de2c1d7f4359b4069c219bcf10621e5a82ea92bfa96d357e55',\n",
       "  'd9824dc3884b746b7afb5a629bc3fcbe48eb35eeb23face858855006339da0c9',\n",
       "  'a6ad3ed1a38a4fb92481192563dee902d76dcd121c066c824a632b4339a7d7db',\n",
       "  '79dd559dbb0adbf5224edf28ba9f74baa66f130b3c368e26aa662f1d99ee962b',\n",
       "  '9fa3798fafc0ee469a09dc492ce5b429ecae6514df5fae2defd000d685758379',\n",
       "  'd856d7b6107d32ca4ed3c3bfa93999fa01de173e5a2c50cfcab3396b853c8890',\n",
       "  'e8aa4366b4c93ca9fe573c5f94f260933c722da473f04d9e53a63bdf69e83491',\n",
       "  'c9a42b2dfd31c937485136023a7288760b38abff63f9412465beee8c31d29e21',\n",
       "  '1f823af444a0f11f54a40a86ec6779a7ac9304a2f4451fa340727dd9c52d7db7',\n",
       "  '8beecf62bbf9abd2983f2b9cdfb970a667bbbc0bb78bd91c2c105faeae71b9b9',\n",
       "  'fc869c786249896c1801913d485b4f3abf61097c845e9c1f607619d7f7ac9951',\n",
       "  'dcfe3d10de5dd4b4ea3026941c2bbcf5a4e0c0b8f36a5abad06531b83e604d57',\n",
       "  '027d10109139d976e2f0713cfb4c945516aafaa34a1a4b04f769b0456c705391',\n",
       "  '814b8005bdb2dfceb6d45998fe9717baac82dcb6f44f84899028dc4b6e6f88ea',\n",
       "  'c13919cd2b15202cf930c90f00732c08fdc6ffb58ad14d1fe284a0f9dc77d92a',\n",
       "  'aa3c2cd709677f12dfae605ffd37b82611b95cc31ddd8473f7fff95b92f76b0c',\n",
       "  '3987e805d12d9beaed0e71d746b0d172d560138c4c57a4d32ab903f720afe491',\n",
       "  '46c3b007db995b8d1569d8df169b768f9acba4e33222eae48bd9d49a38382569',\n",
       "  '567e5a9ede5192e3b75ce00cb6e1da81cbcff08f5e76c737570f283fe23302b2',\n",
       "  'fa882d1cb4bf1eee42367fb2dc4014e3ff77f9327ac80553b4d2278db410d3a8',\n",
       "  '5110875694c371bfbb464762e43b9e97dc2c578e19ae565fbe375f0dbc4f3689',\n",
       "  '8b93e63ccb0f0b0d5cd50ffa6628a617139d00b052ef59be7372fb2d04340d29',\n",
       "  '1fee31126313d2f166caf68e4106d05062f05955da50aef6f6f955e0a3dbcc00',\n",
       "  '9ef69365915eb6f54e4f5a46c122c66a9844d4824ee360bf217a767f961df1f3',\n",
       "  '5416a8af0de7279cec0b30ed4f5586d8150243304b9d94e8748811e45c267347',\n",
       "  '7e89fe447f54067b03f5113eca5ec8263028e7674e77a716808c54cca8147f31',\n",
       "  '590d2c4b249ec0ca5988212424f9eaaf9e52df43f4e2c2694c9a237db83e8b02',\n",
       "  '8ca9f2ad26b6da157a1a9948284d40616cd7f6401438b2029a6cf3f8867114bb',\n",
       "  'd1a9e96b74820a8886d58be4e1626320628fc7d5576b57f8a7d914afb7b6b3d3',\n",
       "  '4a9010384703649114a87fc4989d13b06c991c039e5b06c912478fcc1a06d6c2',\n",
       "  'a414cfef18577eecd3b13e80a6fb63eceaadc8daa3672d890f4487458cd794a1',\n",
       "  '3de5a1a4c34238925354a679fc674a629cd2ed4279e5600b383aef89a12cbed2',\n",
       "  'fdc8f3be5a445496440bdc6abe95f3d6d940701b95564e579f13f1dddd00a8b4',\n",
       "  '53fdaba8f145eb9dc00e892460fb2ae83282bb87f1a92c56e1f3d3b853642cf7',\n",
       "  '20765a9f6ed8fcc0c8444db89daf3bf189690d292f0edec7dde061ae7590ec52',\n",
       "  'cce4bf4ee1a994ecd9e0d8d10db82b7907649a4d460defa2dcd353a6fc7aa58c',\n",
       "  '804b01b39b2ca1273f6d89d733cde6648b80ffaf04da22853385b02a69e4fdd8',\n",
       "  '12ec085b20d78fcea7933d4311a2a571ac9814ecc5c52c48514f7400896edef3',\n",
       "  '1404b2977c569b6966b6153b1093def2437bd88344912e531a3c290e0e4620a6',\n",
       "  '2ede0f10a506e4f7612cc4f9d8015b55a29b123b4fe03b5a2b35de77f0a017fa',\n",
       "  '36e189d4016611532c0edd642351b68123cf646e970c4cd2c137f5b1a07da2a3',\n",
       "  '0b356465a4c3ed500bd97ba7640992a4904699dcfd64eb30e276c2bd8bcd134f',\n",
       "  '0bf2c8e7957bee1cfa0eb4357bd9cb82f75d31f1af74a3d8ded2ec5b0392f0b8',\n",
       "  '8b491ca48a29d7b62a75a016fc976007f668e35940f8b3c9d7c8d67c342e4c1f',\n",
       "  'd8b3e6809f072b0ad842d2f43eafac3eae2ec0dfa124b0bdb1b52971c911b971',\n",
       "  '3bedc8611c86654bf0907cd83f3d2fc6501ece93b8277363329806ef803efc00',\n",
       "  'c947ad27dcc41d1d562056e0b7294cee7a5dab61ddf9086284bb421456666577',\n",
       "  '5ea2aa261559cb5a518583e33fcd8cd045e7a3bc57975c348aece142e3c42873',\n",
       "  '6a632031eb2d866491af68318d8b86d1b6aa02dbeb982a91655606402c6718a6',\n",
       "  '551c4ca3c9d3b7adf0558ce7bb3b7167bf55b782d768dcb98ed1661ecc3c2e5e',\n",
       "  'df11e0470196fb9dab637479f95976163b40e68aacc796da944fa783b2ec30ac',\n",
       "  '2c0f7affcd23334e6db5f2d89cf6c0fdaa66cdfc2bc6646f47c58e56d3de8420',\n",
       "  '0f49880b47d464b8b61a4b87561242c192f2d891470969172d632c51c714f557',\n",
       "  'a8ed313c50f70d3f0563925197ddf4f0fdae2e1526cbb1a634690d53a4ce85b4',\n",
       "  '008c3034885ae60b76d5effb0545c221cf3158b9b7680f924661023b16dbcf46',\n",
       "  '129385f7acdb83c3c62b49927042dbfd850e7fc761d446837e798396e16b4de8',\n",
       "  '8cfe0d8ca8d5e7920182c90ac60ec3368ce434212c4c8e7454d0ae2026140886',\n",
       "  'aa5c3b1bdaee58bc7c58223e829c493ffcd3c1e5266be705adb35c7a4b610f3a',\n",
       "  'e3cb66e16dc857e94d603d081b2af49bb6861f118324ea1c722b244d094f8975',\n",
       "  '2a01349c27be24bb8c6a57591e8257449e765a99ec5cd666548267d9160dafb2',\n",
       "  '13302572b8d772c34794837ede8808b5a0d1bc6b40f8fc930e46948aebf64d87',\n",
       "  '6e8b0efc663936aa0faee6913a2662cf4d8f4434224d5a8faef0180f462a08c7',\n",
       "  '177cd60b409d43026acbf1cb28d0b46ef1bea9c3efcaaab4084c354dc99f9200',\n",
       "  'd3beeb81e0e368c9b121340a3a0bc486818c7fae99bd5af005ec01ba2700739c'],\n",
       " 'version': 1,\n",
       " 'versionHex': '00000001',\n",
       " 'weight': 347508}"
      ]
     },
     "execution_count": 136,
     "metadata": {},
     "output_type": "execute_result"
    }
   ],
   "source": [
    "block"
   ]
  },
  {
   "cell_type": "markdown",
   "metadata": {},
   "source": [
    "The block is a dictionary which has a key called `tx` which lists each transaction included in the block. We can grab one of these transactions and inspect it further:"
   ]
  },
  {
   "cell_type": "code",
   "execution_count": 142,
   "metadata": {
    "collapsed": false
   },
   "outputs": [
    {
     "data": {
      "text/plain": [
       "{'blockhash': '00000000000005cbac4729863520767efc50c505fe2743d5d8abb016683388e3',\n",
       " 'blocktime': 1349035927,\n",
       " 'confirmations': 216,\n",
       " 'hash': '48adf12b094bafe7dca55653862c72c69a1fa049bccd1fc397da46e0bb0e69a2',\n",
       " 'hex': '01000000038f09b018a8fc9736b116eb8b63824a8eb95d1142df9d97406a7442043726d43b010000008a47304402200b5946f3f3cf843fb71718e748d40ec739e8650f5070ad82c11471b5856d089f02201c208b88e8e706354e6abaef231974c1da345760e2404887cad2903ccf4ab96c014104186d879b63467176196f34e34b65174d74a88171fcc8146565352b82759ee223a705820d0d60702192e21f16ec37480c6015ec469a8f63c1fb17358fdeffb86dffffffff055885e7b65f394328f88cee25fdbe3c5013d4bdcc05d9ac17a0e529a20d8182010000008b483045022100cd580aa577f7106ab9cb6da43422eda8cc2402ae02cc503482497300d94b02b702201092208479c2015b65d7949c1c5d58182ae0e6493210a3288603009dabe70883014104f9f92ea030627b8735ae5c9a93a8cbbbab57fe95b8f0cd80fb6f9e7ae49d04e2a611a1ad5cf37885c587f9eb590bbf042aeb4a6a38138b264df84fb0d70ee7f3ffffffff7d34bd78f7519de6c2b857ea82a148b1a1bbe6275ef8e65f4dcf99529db11384140000008b4830450221008ad00a5186d132195f2dbba431cb8e3994b76522477a3a5efa95207021b0bfa4022060c950c98b12d7839a183cf1845b9d8fae0531d581bddbb26e536140c949b9af014104bca4ccc248e6e736007b44a85c7289cfa9ebff5b8a973dbd9cc41a376d820cbec05d1013d5caf3eff6b2e15d73c9cb61353022c24230a3cb618ab824fcb29e73ffffffff02d7dafb35060000001976a9142b894d20868747a97373b5fbffd77db9f454f43988ac8071162f000000001976a914c31f1514213595019b48abf57e50c80162bb9fe888ac00000000',\n",
       " 'locktime': 0,\n",
       " 'size': 617,\n",
       " 'time': 1349035927,\n",
       " 'txid': '48adf12b094bafe7dca55653862c72c69a1fa049bccd1fc397da46e0bb0e69a2',\n",
       " 'version': 1,\n",
       " 'vin': [{'scriptSig': {'asm': '304402200b5946f3f3cf843fb71718e748d40ec739e8650f5070ad82c11471b5856d089f02201c208b88e8e706354e6abaef231974c1da345760e2404887cad2903ccf4ab96c[ALL] 04186d879b63467176196f34e34b65174d74a88171fcc8146565352b82759ee223a705820d0d60702192e21f16ec37480c6015ec469a8f63c1fb17358fdeffb86d',\n",
       "    'hex': '47304402200b5946f3f3cf843fb71718e748d40ec739e8650f5070ad82c11471b5856d089f02201c208b88e8e706354e6abaef231974c1da345760e2404887cad2903ccf4ab96c014104186d879b63467176196f34e34b65174d74a88171fcc8146565352b82759ee223a705820d0d60702192e21f16ec37480c6015ec469a8f63c1fb17358fdeffb86d'},\n",
       "   'sequence': 4294967295,\n",
       "   'txid': '3bd426370442746a40979ddf42115db98e4a82638beb16b13697fca818b0098f',\n",
       "   'vout': 1},\n",
       "  {'scriptSig': {'asm': '3045022100cd580aa577f7106ab9cb6da43422eda8cc2402ae02cc503482497300d94b02b702201092208479c2015b65d7949c1c5d58182ae0e6493210a3288603009dabe70883[ALL] 04f9f92ea030627b8735ae5c9a93a8cbbbab57fe95b8f0cd80fb6f9e7ae49d04e2a611a1ad5cf37885c587f9eb590bbf042aeb4a6a38138b264df84fb0d70ee7f3',\n",
       "    'hex': '483045022100cd580aa577f7106ab9cb6da43422eda8cc2402ae02cc503482497300d94b02b702201092208479c2015b65d7949c1c5d58182ae0e6493210a3288603009dabe70883014104f9f92ea030627b8735ae5c9a93a8cbbbab57fe95b8f0cd80fb6f9e7ae49d04e2a611a1ad5cf37885c587f9eb590bbf042aeb4a6a38138b264df84fb0d70ee7f3'},\n",
       "   'sequence': 4294967295,\n",
       "   'txid': '82810da229e5a017acd905ccbdd413503cbefd25ee8cf82843395fb6e7855805',\n",
       "   'vout': 1},\n",
       "  {'scriptSig': {'asm': '30450221008ad00a5186d132195f2dbba431cb8e3994b76522477a3a5efa95207021b0bfa4022060c950c98b12d7839a183cf1845b9d8fae0531d581bddbb26e536140c949b9af[ALL] 04bca4ccc248e6e736007b44a85c7289cfa9ebff5b8a973dbd9cc41a376d820cbec05d1013d5caf3eff6b2e15d73c9cb61353022c24230a3cb618ab824fcb29e73',\n",
       "    'hex': '4830450221008ad00a5186d132195f2dbba431cb8e3994b76522477a3a5efa95207021b0bfa4022060c950c98b12d7839a183cf1845b9d8fae0531d581bddbb26e536140c949b9af014104bca4ccc248e6e736007b44a85c7289cfa9ebff5b8a973dbd9cc41a376d820cbec05d1013d5caf3eff6b2e15d73c9cb61353022c24230a3cb618ab824fcb29e73'},\n",
       "   'sequence': 4294967295,\n",
       "   'txid': '8413b19d5299cf4d5fe6f85e27e6bba1b148a182ea57b8c2e69d51f778bd347d',\n",
       "   'vout': 20}],\n",
       " 'vout': [{'n': 0,\n",
       "   'scriptPubKey': {'addresses': ['14yCY7Jj2ZifdZNWgqGwdCLsLTRpjrcZqf'],\n",
       "    'asm': 'OP_DUP OP_HASH160 2b894d20868747a97373b5fbffd77db9f454f439 OP_EQUALVERIFY OP_CHECKSIG',\n",
       "    'hex': '76a9142b894d20868747a97373b5fbffd77db9f454f43988ac',\n",
       "    'reqSigs': 1,\n",
       "    'type': 'pubkeyhash'},\n",
       "   'value': Decimal('266.75501783')},\n",
       "  {'n': 1,\n",
       "   'scriptPubKey': {'addresses': ['1Jni13ecqRtgt81aqVVPMJKrjgatxAwQXV'],\n",
       "    'asm': 'OP_DUP OP_HASH160 c31f1514213595019b48abf57e50c80162bb9fe8 OP_EQUALVERIFY OP_CHECKSIG',\n",
       "    'hex': '76a914c31f1514213595019b48abf57e50c80162bb9fe888ac',\n",
       "    'reqSigs': 1,\n",
       "    'type': 'pubkeyhash'},\n",
       "   'value': Decimal('7.90000000')}],\n",
       " 'vsize': 617}"
      ]
     },
     "execution_count": 142,
     "metadata": {},
     "output_type": "execute_result"
    }
   ],
   "source": [
    "sample_tx_hash = block['tx'][1]\n",
    "tx = get_raw_transaction(rpc_conn, sample_tx_hash)\n",
    "tx"
   ]
  },
  {
   "cell_type": "markdown",
   "metadata": {
    "collapsed": true
   },
   "source": [
    "Here we have the raw transaction. This contains all the information for this transaction including where the transaction originated, where it went, and its corresponding amounts."
   ]
  },
  {
   "cell_type": "markdown",
   "metadata": {},
   "source": [
    "By looking at the difference between the output from a transaction and its inputs we can determine the actual mining fees paid by the transactor:"
   ]
  },
  {
   "cell_type": "code",
   "execution_count": 143,
   "metadata": {
    "collapsed": true
   },
   "outputs": [],
   "source": [
    "def get_tx_fee(rpc, tx):\n",
    "    tx_inputs = 0\n",
    "    tx_outputs = 0\n",
    "    for vin in tx['vin']:\n",
    "        tx_id = vin['txid']\n",
    "        ind = vin['vout']\n",
    "        inner_tx = get_raw_transaction(rpc, tx_id)\n",
    "        inner_val = inner_tx['vout'][ind]['value']\n",
    "        tx_inputs += inner_val\n",
    "    for vout in tx['vout']:\n",
    "        tx_outputs += vout['value']\n",
    "    return tx_inputs - tx_outputs"
   ]
  },
  {
   "cell_type": "code",
   "execution_count": 144,
   "metadata": {
    "collapsed": false
   },
   "outputs": [
    {
     "ename": "JSONRPCException",
     "evalue": "-5: No such mempool transaction. Use -txindex to enable blockchain transaction queries. Use gettransaction for wallet transactions.",
     "output_type": "error",
     "traceback": [
      "\u001b[0;31m---------------------------------------------------------------------------\u001b[0m",
      "\u001b[0;31mJSONRPCException\u001b[0m                          Traceback (most recent call last)",
      "\u001b[0;32m<ipython-input-144-c71c811cae68>\u001b[0m in \u001b[0;36m<module>\u001b[0;34m()\u001b[0m\n\u001b[0;32m----> 1\u001b[0;31m \u001b[0mget_tx_fee\u001b[0m\u001b[0;34m(\u001b[0m\u001b[0mrpc_conn\u001b[0m\u001b[0;34m,\u001b[0m \u001b[0mtx\u001b[0m\u001b[0;34m)\u001b[0m\u001b[0;34m\u001b[0m\u001b[0m\n\u001b[0m",
      "\u001b[0;32m<ipython-input-143-c298b0dbb99e>\u001b[0m in \u001b[0;36mget_tx_fee\u001b[0;34m(rpc, tx)\u001b[0m\n\u001b[1;32m      5\u001b[0m         \u001b[0mtx_id\u001b[0m \u001b[0;34m=\u001b[0m \u001b[0mvin\u001b[0m\u001b[0;34m[\u001b[0m\u001b[0;34m'txid'\u001b[0m\u001b[0;34m]\u001b[0m\u001b[0;34m\u001b[0m\u001b[0m\n\u001b[1;32m      6\u001b[0m         \u001b[0mind\u001b[0m \u001b[0;34m=\u001b[0m \u001b[0mvin\u001b[0m\u001b[0;34m[\u001b[0m\u001b[0;34m'vout'\u001b[0m\u001b[0;34m]\u001b[0m\u001b[0;34m\u001b[0m\u001b[0m\n\u001b[0;32m----> 7\u001b[0;31m         \u001b[0minner_tx\u001b[0m \u001b[0;34m=\u001b[0m \u001b[0mget_raw_transaction\u001b[0m\u001b[0;34m(\u001b[0m\u001b[0mrpc\u001b[0m\u001b[0;34m,\u001b[0m \u001b[0mtx_id\u001b[0m\u001b[0;34m)\u001b[0m\u001b[0;34m\u001b[0m\u001b[0m\n\u001b[0m\u001b[1;32m      8\u001b[0m         \u001b[0minner_val\u001b[0m \u001b[0;34m=\u001b[0m \u001b[0minner_tx\u001b[0m\u001b[0;34m[\u001b[0m\u001b[0;34m'vout'\u001b[0m\u001b[0;34m]\u001b[0m\u001b[0;34m[\u001b[0m\u001b[0mind\u001b[0m\u001b[0;34m]\u001b[0m\u001b[0;34m[\u001b[0m\u001b[0;34m'value'\u001b[0m\u001b[0;34m]\u001b[0m\u001b[0;34m\u001b[0m\u001b[0m\n\u001b[1;32m      9\u001b[0m         \u001b[0mtx_inputs\u001b[0m \u001b[0;34m+=\u001b[0m \u001b[0minner_val\u001b[0m\u001b[0;34m\u001b[0m\u001b[0m\n",
      "\u001b[0;32m<ipython-input-15-ab0aff12bf11>\u001b[0m in \u001b[0;36mget_raw_transaction\u001b[0;34m(rpc_conn, tx)\u001b[0m\n\u001b[1;32m      6\u001b[0m \u001b[0;34m\u001b[0m\u001b[0m\n\u001b[1;32m      7\u001b[0m \u001b[0;32mdef\u001b[0m \u001b[0mget_raw_transaction\u001b[0m\u001b[0;34m(\u001b[0m\u001b[0mrpc_conn\u001b[0m\u001b[0;34m,\u001b[0m \u001b[0mtx\u001b[0m\u001b[0;34m)\u001b[0m\u001b[0;34m:\u001b[0m\u001b[0;34m\u001b[0m\u001b[0m\n\u001b[0;32m----> 8\u001b[0;31m     \u001b[0mout\u001b[0m \u001b[0;34m=\u001b[0m \u001b[0mrpc_conn\u001b[0m\u001b[0;34m.\u001b[0m\u001b[0mgetrawtransaction\u001b[0m\u001b[0;34m(\u001b[0m\u001b[0mtx\u001b[0m\u001b[0;34m,\u001b[0m \u001b[0;36m1\u001b[0m\u001b[0;34m)\u001b[0m\u001b[0;34m\u001b[0m\u001b[0m\n\u001b[0m\u001b[1;32m      9\u001b[0m     \u001b[0;32mreturn\u001b[0m \u001b[0mout\u001b[0m\u001b[0;34m\u001b[0m\u001b[0m\n\u001b[1;32m     10\u001b[0m \u001b[0;34m\u001b[0m\u001b[0m\n",
      "\u001b[0;32m/Users/brandon/anaconda/envs/p3/lib/python3.5/site-packages/bitcoinrpc/authproxy.py\u001b[0m in \u001b[0;36m__call__\u001b[0;34m(self, *args)\u001b[0m\n\u001b[1;32m    139\u001b[0m         \u001b[0mresponse\u001b[0m \u001b[0;34m=\u001b[0m \u001b[0mself\u001b[0m\u001b[0;34m.\u001b[0m\u001b[0m_get_response\u001b[0m\u001b[0;34m(\u001b[0m\u001b[0;34m)\u001b[0m\u001b[0;34m\u001b[0m\u001b[0m\n\u001b[1;32m    140\u001b[0m         \u001b[0;32mif\u001b[0m \u001b[0mresponse\u001b[0m\u001b[0;34m.\u001b[0m\u001b[0mget\u001b[0m\u001b[0;34m(\u001b[0m\u001b[0;34m'error'\u001b[0m\u001b[0;34m)\u001b[0m \u001b[0;32mis\u001b[0m \u001b[0;32mnot\u001b[0m \u001b[0;32mNone\u001b[0m\u001b[0;34m:\u001b[0m\u001b[0;34m\u001b[0m\u001b[0m\n\u001b[0;32m--> 141\u001b[0;31m             \u001b[0;32mraise\u001b[0m \u001b[0mJSONRPCException\u001b[0m\u001b[0;34m(\u001b[0m\u001b[0mresponse\u001b[0m\u001b[0;34m[\u001b[0m\u001b[0;34m'error'\u001b[0m\u001b[0;34m]\u001b[0m\u001b[0;34m)\u001b[0m\u001b[0;34m\u001b[0m\u001b[0m\n\u001b[0m\u001b[1;32m    142\u001b[0m         \u001b[0;32melif\u001b[0m \u001b[0;34m'result'\u001b[0m \u001b[0;32mnot\u001b[0m \u001b[0;32min\u001b[0m \u001b[0mresponse\u001b[0m\u001b[0;34m:\u001b[0m\u001b[0;34m\u001b[0m\u001b[0m\n\u001b[1;32m    143\u001b[0m             raise JSONRPCException({\n",
      "\u001b[0;31mJSONRPCException\u001b[0m: -5: No such mempool transaction. Use -txindex to enable blockchain transaction queries. Use gettransaction for wallet transactions."
     ]
    }
   ],
   "source": [
    "get_tx_fee(rpc_conn, tx)"
   ]
  },
  {
   "cell_type": "code",
   "execution_count": 27,
   "metadata": {
    "collapsed": false
   },
   "outputs": [],
   "source": [
    "block = get_block(rpc_conn,rpc_conn.getbestblockhash())"
   ]
  },
  {
   "cell_type": "markdown",
   "metadata": {},
   "source": [
    "We can also batch process blocks:"
   ]
  },
  {
   "cell_type": "code",
   "execution_count": 51,
   "metadata": {
    "collapsed": false
   },
   "outputs": [],
   "source": [
    "commands = [ [ \"getblockhash\", height] for height in range(10) ]\n",
    "block_hashes = rpc_conn.batch_(commands)\n",
    "blocks = rpc_conn.batch_([ [ \"getblock\", h ] for h in block_hashes ])\n",
    "block_times = [ block[\"time\"] for block in blocks ]"
   ]
  },
  {
   "cell_type": "markdown",
   "metadata": {},
   "source": [
    "This returns the epoch times for each block:"
   ]
  },
  {
   "cell_type": "code",
   "execution_count": 52,
   "metadata": {
    "collapsed": false
   },
   "outputs": [
    {
     "data": {
      "text/plain": [
       "[1231006505,\n",
       " 1231469665,\n",
       " 1231469744,\n",
       " 1231470173,\n",
       " 1231470988,\n",
       " 1231471428,\n",
       " 1231471789,\n",
       " 1231472369,\n",
       " 1231472743,\n",
       " 1231473279]"
      ]
     },
     "execution_count": 52,
     "metadata": {},
     "output_type": "execute_result"
    }
   ],
   "source": [
    "block_times"
   ]
  }
 ],
 "metadata": {
  "kernelspec": {
   "display_name": "Python 3",
   "language": "python",
   "name": "python3"
  },
  "language_info": {
   "codemirror_mode": {
    "name": "ipython",
    "version": 3
   },
   "file_extension": ".py",
   "mimetype": "text/x-python",
   "name": "python",
   "nbconvert_exporter": "python",
   "pygments_lexer": "ipython3",
   "version": "3.5.3"
  }
 },
 "nbformat": 4,
 "nbformat_minor": 2
}
