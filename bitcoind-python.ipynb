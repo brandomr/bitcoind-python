{
 "cells": [
  {
   "cell_type": "markdown",
   "metadata": {},
   "source": [
    "# Interacting with a bitcoind node using Python\n",
    "This guide assumes you have a bitcoind node running and available at `localhost:8332`. If not you should refer to this repository's `README.md` for how to set that up.\n",
    "\n",
    "Requires:\n",
    "```\n",
    "python-bitcoinrpc (1.0)\n",
    "```"
   ]
  },
  {
   "cell_type": "code",
   "execution_count": null,
   "metadata": {
    "collapsed": true
   },
   "outputs": [],
   "source": [
    "from bitcoinrpc.authproxy import AuthServiceProxy, JSONRPCException\n",
    "import json"
   ]
  },
  {
   "cell_type": "markdown",
   "metadata": {},
   "source": [
    "Let's set the RPC user and password so that we can instantiate a connection to bitcoind:"
   ]
  },
  {
   "cell_type": "code",
   "execution_count": null,
   "metadata": {
    "collapsed": true
   },
   "outputs": [],
   "source": [
    "rpc_user = 'rpcuser'\n",
    "rpc_password = 'rpcsecret'"
   ]
  },
  {
   "cell_type": "markdown",
   "metadata": {},
   "source": [
    "Now we can go ahead and connect to the bitcoind node:"
   ]
  },
  {
   "cell_type": "code",
   "execution_count": null,
   "metadata": {
    "collapsed": false
   },
   "outputs": [],
   "source": [
    "rpc_conn = AuthServiceProxy(\"http://%s:%s@localhost:8332\"%(rpc_user, rpc_password), timeout=10000)"
   ]
  },
  {
   "cell_type": "markdown",
   "metadata": {},
   "source": [
    "Let's test the connection:"
   ]
  },
  {
   "cell_type": "code",
   "execution_count": null,
   "metadata": {
    "collapsed": false,
    "scrolled": false
   },
   "outputs": [],
   "source": [
    "rpc_conn.getinfo()"
   ]
  },
  {
   "cell_type": "markdown",
   "metadata": {},
   "source": [
    "Note that the latest block at the time of writing was `498016`. You'll notice that if you just started up your bitcoind node it probably has far fewer blocks than that. This is because it is still in the process of downloading the full blockchain and getting up to speed. \n",
    "\n",
    "One thing to consider is that only blocks found on disk can be accessed using the RPC connection. So if you want to inspect a block you can, just ensure you are passing the hash of an early block. For example:"
   ]
  },
  {
   "cell_type": "code",
   "execution_count": null,
   "metadata": {
    "collapsed": false,
    "scrolled": true
   },
   "outputs": [],
   "source": [
    "rpc_conn.getblock('00000000000005cbac4729863520767efc50c505fe2743d5d8abb016683388e3')"
   ]
  },
  {
   "cell_type": "markdown",
   "metadata": {},
   "source": [
    "Now we can define some helper functions to get us additional information. We will always pass the RPC connection (`rpc_conn`) to each function to remind us that we need a live connection in case it has timed out."
   ]
  },
  {
   "cell_type": "code",
   "execution_count": null,
   "metadata": {
    "collapsed": true
   },
   "outputs": [],
   "source": [
    "def get_block_hash(rpc_conn, index):\n",
    "    return rpc_conn.getblockhash(index)\n",
    "\n",
    "def get_block(rpc_conn, hash):\n",
    "    return rpc_conn.getblock(hash)\n",
    "\n",
    "def get_raw_transaction(rpc_conn, tx):\n",
    "    out = rpc_conn.getrawtransaction(tx, 1)\n",
    "    return out\n",
    "\n",
    "def get_tx_outputs(tx):\n",
    "    outputs = [float(i['value']) for i in tx['vout']]\n",
    "    return outputs"
   ]
  },
  {
   "cell_type": "markdown",
   "metadata": {},
   "source": [
    "Now we can get a block using the block height as opposed to the block's raw hash:"
   ]
  },
  {
   "cell_type": "code",
   "execution_count": null,
   "metadata": {
    "collapsed": false
   },
   "outputs": [],
   "source": [
    "block = get_block(rpc_conn,get_block_hash(rpc_conn, 201286))"
   ]
  },
  {
   "cell_type": "code",
   "execution_count": null,
   "metadata": {
    "collapsed": false
   },
   "outputs": [],
   "source": [
    "block"
   ]
  },
  {
   "cell_type": "markdown",
   "metadata": {},
   "source": [
    "The block is a dictionary which has a key called `tx` which lists each transaction included in the block. We can grab one of these transactions and inspect it further:"
   ]
  },
  {
   "cell_type": "code",
   "execution_count": null,
   "metadata": {
    "collapsed": false
   },
   "outputs": [],
   "source": [
    "sample_tx_hash = block['tx'][1]\n",
    "tx = get_raw_transaction(rpc_conn, sample_tx_hash)\n",
    "tx"
   ]
  },
  {
   "cell_type": "markdown",
   "metadata": {
    "collapsed": true
   },
   "source": [
    "Here we have the raw transaction. This contains all the information for this transaction including where the transaction originated, where it went, and its corresponding amounts."
   ]
  },
  {
   "cell_type": "markdown",
   "metadata": {},
   "source": [
    "By looking at the difference between the output from a transaction and its inputs we can determine the actual mining fees paid by the transactor:"
   ]
  },
  {
   "cell_type": "code",
   "execution_count": null,
   "metadata": {
    "collapsed": true
   },
   "outputs": [],
   "source": [
    "def get_tx_fee(rpc, tx):\n",
    "    tx_inputs = 0\n",
    "    tx_outputs = 0\n",
    "    for vin in tx['vin']:\n",
    "        tx_id = vin['txid']\n",
    "        ind = vin['vout']\n",
    "        inner_tx = get_raw_transaction(rpc, tx_id)\n",
    "        inner_val = inner_tx['vout'][ind]['value']\n",
    "        tx_inputs += inner_val\n",
    "    for vout in tx['vout']:\n",
    "        tx_outputs += vout['value']\n",
    "    return tx_inputs - tx_outputs"
   ]
  },
  {
   "cell_type": "code",
   "execution_count": null,
   "metadata": {
    "collapsed": false
   },
   "outputs": [],
   "source": [
    "get_tx_fee(rpc_conn, tx)"
   ]
  },
  {
   "cell_type": "code",
   "execution_count": null,
   "metadata": {
    "collapsed": false
   },
   "outputs": [],
   "source": [
    "block = get_block(rpc_conn,rpc_conn.getbestblockhash())"
   ]
  },
  {
   "cell_type": "markdown",
   "metadata": {},
   "source": [
    "We can also batch process blocks:"
   ]
  },
  {
   "cell_type": "code",
   "execution_count": null,
   "metadata": {
    "collapsed": false
   },
   "outputs": [],
   "source": [
    "commands = [ [ \"getblockhash\", height] for height in range(10) ]\n",
    "block_hashes = rpc_conn.batch_(commands)\n",
    "blocks = rpc_conn.batch_([ [ \"getblock\", h ] for h in block_hashes ])\n",
    "block_times = [ block[\"time\"] for block in blocks ]"
   ]
  },
  {
   "cell_type": "markdown",
   "metadata": {},
   "source": [
    "This returns the epoch times for each block:"
   ]
  },
  {
   "cell_type": "code",
   "execution_count": null,
   "metadata": {
    "collapsed": false
   },
   "outputs": [],
   "source": [
    "block_times"
   ]
  }
 ],
 "metadata": {
  "kernelspec": {
   "display_name": "Python 3",
   "language": "python",
   "name": "python3"
  },
  "language_info": {
   "codemirror_mode": {
    "name": "ipython",
    "version": 3
   },
   "file_extension": ".py",
   "mimetype": "text/x-python",
   "name": "python",
   "nbconvert_exporter": "python",
   "pygments_lexer": "ipython3",
   "version": "3.5.3"
  }
 },
 "nbformat": 4,
 "nbformat_minor": 2
}
